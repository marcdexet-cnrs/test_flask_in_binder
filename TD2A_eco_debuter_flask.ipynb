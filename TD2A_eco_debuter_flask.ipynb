{
 "cells": [
  {
   "cell_type": "markdown",
   "metadata": {},
   "source": [
    "# 2A.eco - Débuter avec Flask\n",
    "\n",
    "Pour aller vite, [Flask](http://flask.pocoo.org/) est un framework de développement web en Python. Il en existe d'autres, le plus connu d'entre eux est [Django](https://www.djangoproject.com/). Ce notebook la création d'un site web à usage principalement privé."
   ]
  },
  {
   "cell_type": "markdown",
   "metadata": {},
   "source": [
    "En alliant le langage de programmation Python et un système de templates très riche, on peut créer assez facilement une application. Forcément, plus l'application que vous rêvez de réaliser sera compliquée et plein de fonctionnalités, plus le temps qu'il vous faudra pour la coder sera long. \n",
    "\n",
    "Mais avec [Flask](http://flask.pocoo.org/), on peut déjà rapidement obtenir des résultats, sans trop se perdre.\n",
    "\n",
    "Mais attention, [Flask](http://flask.pocoo.org/) ne fait pas tout : si vous voulez aboutir à quelque chose de sérieux en web-app, vous finirez par utililser [Django](https://www.djangoproject.com/). Mais [Django](https://www.djangoproject.com/) est très lourd à apprendre, tandis que Flask ressemble beaucoup à ce qu'on a utilisé pendant les cours. Contrairement à [Django](https://www.djangoproject.com/) qui fait beaucoup de choses tout seul (ORM, validations formulaires, back-end admin...), [Flask](http://flask.pocoo.org/) reste simple et c'est à vous de lui coder/rajouter ces composants à la main. Il est aussi très utilisé et ne risque pas de disparaître de sitôt."
   ]
  },
  {
   "cell_type": "code",
   "execution_count": 1,
   "metadata": {},
   "outputs": [
    {
     "data": {
      "text/html": [
       "<div id=\"my_id_menu_nb\">run previous cell, wait for 2 seconds</div>\n",
       "<script>\n",
       "function repeat_indent_string(n){\n",
       "    var a = \"\" ;\n",
       "    for ( ; n > 0 ; --n)\n",
       "        a += \"    \";\n",
       "    return a;\n",
       "}\n",
       "// look up into all sections and builds an automated menu //\n",
       "var update_menu_string = function(begin, lfirst, llast, sformat, send, keep_item, begin_format, end_format) {\n",
       "    var anchors = document.getElementsByClassName(\"section\");\n",
       "    if (anchors.length == 0) {\n",
       "        anchors = document.getElementsByClassName(\"text_cell_render rendered_html\");\n",
       "    }\n",
       "    var i,t;\n",
       "    var text_menu = begin;\n",
       "    var text_memo = \"<pre>\\nlength:\" + anchors.length + \"\\n\";\n",
       "    var ind = \"\";\n",
       "    var memo_level = 1;\n",
       "    var href;\n",
       "    var tags = [];\n",
       "    var main_item = 0;\n",
       "    var format_open = 0;\n",
       "    for (i = 0; i <= llast; i++)\n",
       "        tags.push(\"h\" + i);\n",
       "\n",
       "    for (i = 0; i < anchors.length; i++) {\n",
       "        text_memo += \"**\" + anchors[i].id + \"--\\n\";\n",
       "\n",
       "        var child = null;\n",
       "        for(t = 0; t < tags.length; t++) {\n",
       "            var r = anchors[i].getElementsByTagName(tags[t]);\n",
       "            if (r.length > 0) {\n",
       "child = r[0];\n",
       "break;\n",
       "            }\n",
       "        }\n",
       "        if (child == null) {\n",
       "            text_memo += \"null\\n\";\n",
       "            continue;\n",
       "        }\n",
       "        if (anchors[i].hasAttribute(\"id\")) {\n",
       "            // when converted in RST\n",
       "            href = anchors[i].id;\n",
       "            text_memo += \"#1-\" + href;\n",
       "            // passer à child suivant (le chercher)\n",
       "        }\n",
       "        else if (child.hasAttribute(\"id\")) {\n",
       "            // in a notebook\n",
       "            href = child.id;\n",
       "            text_memo += \"#2-\" + href;\n",
       "        }\n",
       "        else {\n",
       "            text_memo += \"#3-\" + \"*\" + \"\\n\";\n",
       "            continue;\n",
       "        }\n",
       "        var title = child.textContent;\n",
       "        var level = parseInt(child.tagName.substring(1,2));\n",
       "\n",
       "        text_memo += \"--\" + level + \"?\" + lfirst + \"--\" + title + \"\\n\";\n",
       "\n",
       "        if ((level < lfirst) || (level > llast)) {\n",
       "            continue ;\n",
       "        }\n",
       "        if (title.endsWith('¶')) {\n",
       "            title = title.substring(0,title.length-1).replace(\"<\", \"&lt;\")\n",
       "         .replace(\">\", \"&gt;\").replace(\"&\", \"&amp;\");\n",
       "        }\n",
       "        if (title.length == 0) {\n",
       "            continue;\n",
       "        }\n",
       "\n",
       "        while (level < memo_level) {\n",
       "            text_menu += end_format + \"</ul>\\n\";\n",
       "            format_open -= 1;\n",
       "            memo_level -= 1;\n",
       "        }\n",
       "        if (level == lfirst) {\n",
       "            main_item += 1;\n",
       "        }\n",
       "        if (keep_item != -1 && main_item != keep_item + 1) {\n",
       "            // alert(main_item + \" - \" + level + \" - \" + keep_item);\n",
       "            continue;\n",
       "        }\n",
       "        while (level > memo_level) {\n",
       "            text_menu += \"<ul>\\n\";\n",
       "            memo_level += 1;\n",
       "        }\n",
       "        text_menu += repeat_indent_string(level-2);\n",
       "        text_menu += begin_format + sformat.replace(\"__HREF__\", href).replace(\"__TITLE__\", title);\n",
       "        format_open += 1;\n",
       "    }\n",
       "    while (1 < memo_level) {\n",
       "        text_menu += end_format + \"</ul>\\n\";\n",
       "        memo_level -= 1;\n",
       "        format_open -= 1;\n",
       "    }\n",
       "    text_menu += send;\n",
       "    //text_menu += \"\\n\" + text_memo;\n",
       "\n",
       "    while (format_open > 0) {\n",
       "        text_menu += end_format;\n",
       "        format_open -= 1;\n",
       "    }\n",
       "    return text_menu;\n",
       "};\n",
       "var update_menu = function() {\n",
       "    var sbegin = \"\";\n",
       "    var sformat = '<a href=\"#__HREF__\">__TITLE__</a>';\n",
       "    var send = \"\";\n",
       "    var begin_format = '<li>';\n",
       "    var end_format = '</li>';\n",
       "    var keep_item = -1;\n",
       "    var text_menu = update_menu_string(sbegin, 2, 4, sformat, send, keep_item,\n",
       "       begin_format, end_format);\n",
       "    var menu = document.getElementById(\"my_id_menu_nb\");\n",
       "    menu.innerHTML=text_menu;\n",
       "};\n",
       "window.setTimeout(update_menu,2000);\n",
       "            </script>"
      ],
      "text/plain": [
       "<IPython.core.display.HTML object>"
      ]
     },
     "execution_count": 1,
     "metadata": {},
     "output_type": "execute_result"
    }
   ],
   "source": [
    "from jyquickhelper import add_notebook_menu\n",
    "add_notebook_menu()"
   ]
  },
  {
   "cell_type": "markdown",
   "metadata": {},
   "source": [
    "## Comment ça marche ? \n",
    "\n",
    "Pour commencer, disons qu'un site web n'est qu'un simple programme exécuté sur un ordinateur. Si vous voulez une présentation détaillée de l'écosystème du web, [le résumé de code school](https://www.codeschool.com/beginners-guide-to-web-development) est complet et très clair. \n",
    "\n",
    "Quand vous vous rendez sur ce site web, vous êtes ce qu'on appellera un client, et l'ordinateur où est exécuté ce site web est appelé le serveur. Durant le TD, nous utiliserons le même ordinateur pour faire les deux : le site web sera donc situé sur votre propre machine. Ce qui veut dire que votre application ne sera disponible que pour vous, on dit encore *\"en local\"*. \n",
    "\n",
    "Pour communiquer avec le site internet, le client envoie des requêtes au serveur, en gros en lui donnant une page (une url) le client demande au serveur une chose bien précise. Pour faire simple, tout se joue dans l'adresse mise dans le navigateur.\n",
    "\n",
    "L'adresse https://github.com/sdpython/ensae_teaching_cs est composée de plusieurs parties : \n",
    "- `https` : c'est le protocole on ne va pas en parler ici\n",
    "- `github.com` : c'est le nom du domaine\n",
    "- `sdpython/ensae_teaching_cs` : c'est le chemin de la page web demandée, aussi appelé *\"route\"*.\n",
    "\n"
   ]
  },
  {
   "cell_type": "markdown",
   "metadata": {},
   "source": [
    "Dans le TD comme tout se passe sur notre ordinateur, on n'a pas de nom de domaine; \n",
    "Il est remplacé par localhost par convention. \n",
    "Pour accéder à la page appelée “/unepage”, nous devrons donc entrer dans notre navigateur : http://localhost/unepage\n",
    "Et petite subtilité, un serveur HTTP peut fonctionner sur différents ports. Par défaut, le serveur HTTP intégré à Flask fonctionne sur le port 5000, il faut donc le préciser dans l’adresse du navigateur. Ce qui donne au final l'adresse http://localhost:5000/unepage pour accéder à la page /unepage de notre application."
   ]
  },
  {
   "cell_type": "markdown",
   "metadata": {},
   "source": [
    "## Première page internet avec Flask\n",
    "\n",
    "Exécutez le code ci-dessous après avoir \"décommenté\" les deux dernières lignes. Allez à la page http://localhost:5000/. Pour quitter, il faut interrompre le kernel en cliquant sur *kernel > interrupt*."
   ]
  },
  {
   "cell_type": "code",
   "execution_count": 2,
   "metadata": {},
   "outputs": [
    {
     "name": "stdout",
     "output_type": "stream",
     "text": [
      " * Serving Flask app \"__main__\" (lazy loading)\n",
      " * Environment: production\n",
      "   WARNING: This is a development server. Do not use it in a production deployment.\n",
      "   Use a production WSGI server instead.\n",
      " * Debug mode: off\n"
     ]
    },
    {
     "name": "stderr",
     "output_type": "stream",
     "text": [
      " * Running on http://127.0.0.1:5000/ (Press CTRL+C to quit)\n",
      "127.0.0.1 - - [14/Nov/2019 12:14:18] \"GET / HTTP/1.1\" 200 -\n",
      "127.0.0.1 - - [14/Nov/2019 12:14:18] \"GET /favicon.ico HTTP/1.1\" 404 -\n"
     ]
    }
   ],
   "source": [
    "from flask import Flask  # pip install flask\n",
    "app = Flask(__name__)\n",
    "\n",
    "@app.route(\"/\")\n",
    "def hello():\n",
    "    return \"Hello World!\"\n",
    "\n",
    "if __name__ == \"__main__\":\n",
    "     app.run()"
   ]
  },
  {
   "cell_type": "markdown",
   "metadata": {},
   "source": [
    "### Explication du code pas à pas"
   ]
  },
  {
   "cell_type": "markdown",
   "metadata": {},
   "source": [
    "Ce code commence par importer le module Flask. "
   ]
  },
  {
   "cell_type": "code",
   "execution_count": 3,
   "metadata": {
    "collapsed": true
   },
   "outputs": [],
   "source": [
    "from flask import Flask"
   ]
  },
  {
   "cell_type": "markdown",
   "metadata": {},
   "source": [
    "On donne ensuite un nom à l'application ici ce sera app"
   ]
  },
  {
   "cell_type": "code",
   "execution_count": 4,
   "metadata": {
    "collapsed": true
   },
   "outputs": [],
   "source": [
    "app = Flask(__name__)"
   ]
  },
  {
   "cell_type": "markdown",
   "metadata": {},
   "source": [
    "Ensuite vient la partie cruciale : définir une page (ou route) avec flask\n",
    "\n",
    "@app.route permet de préciser à quelle adresse ce qui suit va s'appliquer. \n",
    "\n",
    "Ici comme on est sur la page d'accueil, on met juste (\"/\") "
   ]
  },
  {
   "cell_type": "raw",
   "metadata": {},
   "source": [
    "@app.route(\"/\")"
   ]
  },
  {
   "cell_type": "markdown",
   "metadata": {},
   "source": [
    "Ensuite vient la fonction hello() qui va s'éxécuter sur la page \"/\". On dit simplement que quand on arrive sur la page définie par la route juste au dessus, on va en même temps appeler la fonction hello().\n",
    "\n",
    "Ici ça va donc afficher \"Hello World\" quand on arrive sur la page \"/\"."
   ]
  },
  {
   "cell_type": "code",
   "execution_count": 5,
   "metadata": {
    "collapsed": true
   },
   "outputs": [],
   "source": [
    "def hello():\n",
    "    return \"Hello World!\""
   ]
  },
  {
   "cell_type": "markdown",
   "metadata": {},
   "source": [
    "Cette dernière partie permet juste de faire en sorte que l'application se lance quand on lance le code dans la console ou le terminal."
   ]
  },
  {
   "cell_type": "code",
   "execution_count": 6,
   "metadata": {
    "collapsed": true
   },
   "outputs": [],
   "source": [
    "if __name__ == \"__main__\" and \"get_ipython\" not in locals():  # ne pas exécuter dans un notebook\n",
    "    app.run()"
   ]
  },
  {
   "cell_type": "markdown",
   "metadata": {},
   "source": [
    "### Exercice 1 "
   ]
  },
  {
   "cell_type": "markdown",
   "metadata": {},
   "source": [
    "Remplacez `\"Hello World !\"` par `\"ce que vous voulez\"` et affichez ce nouveau texte dans la page hébergée en local."
   ]
  },
  {
   "cell_type": "markdown",
   "metadata": {},
   "source": [
    "## Deuxième page internet avec Flask - sans le notebook\n",
    "\n",
    "Là il faut vous armer un peu de patience. Car le problème de [Flask](http://flask.pocoo.org/), c'est qu'on ne peut pas tout exécuter dans un notebook (le [CSS](https://fr.wikipedia.org/wiki/Feuilles_de_style_en_cascade), les templates, etc.) On va devoir repasser par Python [Spyder](https://pythonhosted.org/spyder/) (ou n'importe quel éditeur de texte comme [Sublime Text](https://www.sublimetext.com/) par exemple) et la ligne de commande. Mais pas de panique, on y va pas à pas.\n",
    "\n",
    "### Les éléments nécessaires\n",
    "\n",
    "\n",
    "#### Les codes .py exemples\n",
    "\n",
    "Déjà, les exemples sont disponibles dans le fichier [flask_complet.zip](https://github.com/sdpython/ensae_teaching_cs/raw/master/_doc/notebooks/td2a_eco/flask_complet.zip). Pour chaque élément que nous regarderons il y aura un dossier correspondant. "
   ]
  },
  {
   "cell_type": "markdown",
   "metadata": {},
   "source": [
    "#### Les outils à manipuler\n",
    "\n",
    "__Sublimetex__\n",
    "\n",
    "L'éditeur le plus utilisé par les développeurs web : [Sublime Text](https://www.sublimetext.com/). L'intérêt principal : pouvoir ouvrir dans un même éditeur de texte, des fichiers avec des langages différents ([HTML](https://fr.wikipedia.org/wiki/Hypertext_Markup_Language), [CSS](https://fr.wikipedia.org/wiki/Feuilles_de_style_en_cascade), python), très pratique quand on code une application web. Et c'est codé en python ;)\n",
    "\n",
    "Vous pouvez télécharger [Sublime Text 3](https://sublimetext.com/3) (il s'agit en théorie encore d'une version bêta, mais elle fonctionne très bien). Pour les sessions ENSAE, prenez la version portable. \n",
    "\n",
    "__Console__\n",
    "\n",
    "Pour ouvrir une invite de commandes :\n",
    "\n",
    "- sous Windows, il faut chercher *\"cmd\"* dans l'outil de recherche \n",
    "- sous Mac, utilisez spotlight (raccourci *Pomme + espace*) et chercher console\n",
    "\n",
    "La console permettra de lancer les *.py* et exécutera le script qui lancera l'application."
   ]
  },
  {
   "cell_type": "markdown",
   "metadata": {},
   "source": [
    "### Lancer la première page\n",
    "\n",
    "Prenez le code hello_world.py \n",
    "\n",
    "Ouvrir la console et taper `\"python xxxxxxxx/hello_world.py\"` \n",
    "(en remplacant les x par le chemin de votre fichier `hello.py`, par exemple `C:/Téléchargements` ou `C:/Bureau/Python/`)\n",
    "\n",
    "Ouvrir une page du navigateur et aller à l'adresse http://localhost:5000.\n",
    "\n",
    "Vous devriez voir une page avec le texte *\"Hello World\"* en haut à gauche : si c'est le cas, bravo ! Vous venez de créer la première page de votre future application."
   ]
  },
  {
   "cell_type": "code",
   "execution_count": 7,
   "metadata": {},
   "outputs": [
    {
     "data": {
      "image/png": "[encoded data removed]",
      "text/plain": [
       "<IPython.core.display.Image object>"
      ]
     },
     "execution_count": 8,
     "metadata": {},
     "output_type": "execute_result"
    }
   ],
   "source": [
    "from pyquickhelper.helpgen import NbImage\n",
    "NbImage(\"simple_hello.png\")"
   ]
  },
  {
   "cell_type": "markdown",
   "metadata": {},
   "source": [
    "## Ajouter un peu de style à la page\n",
    "\n",
    "Pour l'instant, la page est assez austère, c'est normal, on n'a pas encore défini l'ensemble des styles qui iront avec cette page. Pour cela, il faut commencer par réaliser une structure de dossiers que [flask](http://flask.pocoo.org/) comprend.\n",
    "\n",
    "En gros, on va indiquer à [Flask](http://flask.pocoo.org/) des templates de pages et des styles prédéfinis pour l'application.\n",
    "En ouvrant le dossier `hello_color` vous trouverez 3 éléments : \n",
    "\n",
    "- `hello_world_green.py`\n",
    "- un dossier `static` qui contient la feuille de style `main.css`\n",
    "- un dossier `templates` qui contient une page `home.html`\n",
    "\n",
    "La structure du dossier et le nom des dossiers `static` et `templates` sont importants : [Flask](http://flask.pocoo.org/) sait que c'est dans ces dossiers là qu'il doit aller chercher les éléments qui l'intéressent. Si vous lancez l'application à partir de la console vous verrez qu'à présent le texte est en vert ! C'est parce qu'on a défini les styles de la page. On va passer chaque élément en détail pour bien comprendre comment ça marche. "
   ]
  },
  {
   "cell_type": "code",
   "execution_count": 8,
   "metadata": {},
   "outputs": [
    {
     "data": {
      "image/png": "[encoded data removed]",
      "text/plain": [
       "<IPython.core.display.Image object>"
      ]
     },
     "execution_count": 9,
     "metadata": {},
     "output_type": "execute_result"
    }
   ],
   "source": [
    "NbImage(\"green_hello.png\")"
   ]
  },
  {
   "cell_type": "markdown",
   "metadata": {},
   "source": [
    "### Le hello_world_green.py\n",
    "\n",
    "Par rapport au précédent `hello_world.py`, on a modifié quelques éléments. On importe la méthode `render_template` qui va permettre de faire le lien entre le *.py* et la page html prédéfinie."
   ]
  },
  {
   "cell_type": "code",
   "execution_count": 9,
   "metadata": {
    "collapsed": true
   },
   "outputs": [],
   "source": [
    "#!/usr/bin/env python\n",
    "# -*- coding: utf-8 -*-\n",
    "\n",
    "from flask import Flask, render_template\n",
    "app = Flask(__name__)\n",
    "\n",
    "@app.route(\"/\")\n",
    "def hello():\n",
    "    return render_template(\"home.html\", message = \"Hello World!\")\n",
    "\n",
    "#if __name__ == \"__main__\":\n",
    "#    app.run()"
   ]
  },
  {
   "cell_type": "markdown",
   "metadata": {},
   "source": [
    "Ici, au lieu de renvoyer le texte directement, on demande d'injecter dans le template de la page home le message `Hello World`. "
   ]
  },
  {
   "cell_type": "markdown",
   "metadata": {},
   "source": [
    "### Le template home.html\n",
    "\n",
    "Dans ces lignes, il y a deux éléments importants :\n",
    "\n",
    "- l'appel au *css* pour avoir le style\n",
    "- l'intégration de ce que python injecte dans la page\n",
    "\n",
    "L'appel au css se fait dans la balise `<link>` où on indique le chemin pour accéder à la feuille de style. On intègre ce qui est envoyé grâce au caractère `{{ }}` ici on aura donc le message `\"Hello World\"` qui sera affiché avec un type `h1`."
   ]
  },
  {
   "cell_type": "raw",
   "metadata": {},
   "source": [
    "<!doctype html>\n",
    "<html lang=\"en\">\n",
    "    <head>\n",
    "\t\t<link rel =\"stylesheet\" type=\"text/css\" href=\"{{ url_for('static', filename='main.css') }}\"\n",
    "    </head>\n",
    "    <body>\n",
    "\t    <h1 > {{ message }} </h1>\n",
    "    </body>\n",
    "</html>"
   ]
  },
  {
   "cell_type": "markdown",
   "metadata": {},
   "source": [
    "### Le main.css\n",
    "\n",
    "Justement le `h1` dans le *css*, on lui dit à quoi il doit ressembler. On va lui donner une couleur verte et le centrer."
   ]
  },
  {
   "cell_type": "raw",
   "metadata": {},
   "source": [
    "h1 {\n",
    "  font-size: 2em;\n",
    "  color: green;\n",
    "  text-align: center;\n",
    "}"
   ]
  },
  {
   "cell_type": "markdown",
   "metadata": {},
   "source": [
    "### Exercice 2 "
   ]
  },
  {
   "cell_type": "markdown",
   "metadata": {},
   "source": [
    "Changez le texte de la variable message, passez le en rouge, texte aligné à gauche, police 1em.\n",
    "\n",
    "Pour que le style s'actualise, il faut :\n",
    "\n",
    "- modifier le *.css*\n",
    "- enregistrer les modifications\n",
    "- clic droit sur la page http://localhost:5000/ pour afficher le code source\n",
    "- clic sur `static/main.css`\n",
    "- actualiser cette page *(F5)*\n",
    "- retourner à la page http://localhost:5000/ \n",
    "\n",
    "Si vous voulez tester [d'autres styles](http://www.w3schools.com/cssref/)..."
   ]
  },
  {
   "cell_type": "markdown",
   "metadata": {},
   "source": [
    "## Naviguer entre les pages\n",
    "\n",
    "Pour l'instant, on a vu comment faire une page simple, maintenant on va en faire deux et comment passer de l'une à l'autre. Pour cela, ouvrez le dossier multiple_pages. Par rapport à l'exemple précédent, on a ajouté 1 template html `'page_suivante.html'` et modifié légèrement le code *.py* ainsi que la page `home.html`."
   ]
  },
  {
   "cell_type": "code",
   "execution_count": 10,
   "metadata": {},
   "outputs": [
    {
     "data": {
      "image/png": "[encoded data removed]",
      "text/plain": [
       "<IPython.core.display.Image object>"
      ]
     },
     "execution_count": 11,
     "metadata": {},
     "output_type": "execute_result"
    }
   ],
   "source": [
    "NbImage(\"2_pages.png\")"
   ]
  },
  {
   "cell_type": "markdown",
   "metadata": {},
   "source": [
    "Regardons tout ça en détail."
   ]
  },
  {
   "cell_type": "markdown",
   "metadata": {},
   "source": [
    "### app_two_pages.py"
   ]
  },
  {
   "cell_type": "code",
   "execution_count": 11,
   "metadata": {
    "collapsed": true
   },
   "outputs": [],
   "source": [
    "#!/usr/bin/env python\n",
    "# -*- coding: utf-8 -*-\n",
    "\n",
    "from flask import Flask, render_template\n",
    "app = Flask(__name__)\n",
    "\n",
    "@app.route(\"/\")\n",
    "def hello():\n",
    "    return render_template(\"home.html\", message_bienvenue=\"Bienvenue sur la page d'accueil !\")\n",
    "\n",
    "@app.route(\"/next\")\n",
    "def suite():\n",
    "    return render_template(\"page_suivante.html\")\n",
    "\n",
    "#if __name__ == \"__main__\":\n",
    "#    app.run()"
   ]
  },
  {
   "cell_type": "markdown",
   "metadata": {},
   "source": [
    "Par rapport à l'exemple précédent, on a ajouté une route et une nouvelle fonction. La nouvelle route est celle d'une deuxième page à qui on applique le template html `\"page_suivante\"`. Dans cet exemple, on n'injecte rien depuis python dans la page."
   ]
  },
  {
   "cell_type": "markdown",
   "metadata": {},
   "source": [
    "### home.html\n",
    "\n",
    "La page d'accueil a été légèrement enrichie d'une ligne pour accéder à la deuxième page."
   ]
  },
  {
   "cell_type": "raw",
   "metadata": {},
   "source": [
    "<!doctype html>\n",
    "<html lang=\"en\">\n",
    "    <head>\n",
    "\t\t<link rel =\"stylesheet\" type=\"text/css\" href=\"{{ url_for('static', filename='main.css') }}\"\n",
    "    </head>\n",
    "    <body>\n",
    "\t    <h1 > {{ message_bienvenue }}</h1>\n",
    "    </body>\n",
    "        <a href=\"{{ url_for('suite') }}\"> Cliquer pour continuer </a>\n",
    "</html>"
   ]
  },
  {
   "cell_type": "markdown",
   "metadata": {},
   "source": [
    "On inclut un lien dans une balise a un peu passe-partout. Le `href` est une balise qui permet de mettre des liens et pour indiquer à [flask](http://flask.pocoo.org/) à quelle page il doit se rendre en cliquant sur le lien il faut lui donner le nom de la __fonction__ définie pour la page (pas la route !) Dans l'exemple on donne indique bien ``url_for('suite')`` et non pas ``url_for('next')``."
   ]
  },
  {
   "cell_type": "raw",
   "metadata": {},
   "source": [
    "<a href=\"{{ url_for('suite') }}\"> Cliquer pour continuer </a>"
   ]
  },
  {
   "cell_type": "markdown",
   "metadata": {},
   "source": [
    "### page_suivante.html\n",
    "\n",
    "Elle ressemble beaucoup à la page `home.html` sauf qu'on n'a pas mis d'élément entre `{{}}`. Et le lien présent dans cette page renvoie vers la page d'accueil."
   ]
  },
  {
   "cell_type": "raw",
   "metadata": {},
   "source": [
    "<!doctype html>\n",
    "<html lang=\"en\">\n",
    "    <head>\n",
    "\t\t<link rel =\"stylesheet\" type=\"text/css\" href=\"{{ url_for('static', filename='main.css') }}\"\n",
    "    </head>\n",
    "    <body>\n",
    "\t    <h1 > Vous êtes sur la 2eme page </h1>\n",
    "    </body>\n",
    "\t<a href=\"{{ url_for('hello') }}\"> retourner à la page d'accueil </a>\n",
    "</html>"
   ]
  },
  {
   "cell_type": "markdown",
   "metadata": {},
   "source": [
    "## Envoyer des informations\n",
    "\n"
   ]
  },
  {
   "cell_type": "markdown",
   "metadata": {},
   "source": [
    "A présent, on va voir comment on peut remplir un formulaire (dans notre cas, renseigner son nom dans une box). Dans le dossier `\"login\"`, on a comme d'habitude, le *.py*, les templates html et le style *css*. "
   ]
  },
  {
   "cell_type": "code",
   "execution_count": 12,
   "metadata": {},
   "outputs": [
    {
     "data": {
      "image/png": "[encoded data removed]",
      "text/plain": [
       "<IPython.core.display.Image object>"
      ]
     },
     "execution_count": 13,
     "metadata": {},
     "output_type": "execute_result"
    }
   ],
   "source": [
    "NbImage(\"login.png\")"
   ]
  },
  {
   "cell_type": "markdown",
   "metadata": {},
   "source": [
    "### home.html\n",
    "\n",
    "Cette fois-ci on commence par regarder la page html : on voit apparaitre un nouvel élément le `\"form\"` :\n",
    "\n",
    "- On indique POST pour dire qu'on va s'en servir pour que l'utilisateur puisse fournir des informations.\n",
    "- On indique aussi que ce qui sera donné est considéré comme un *string*\n",
    "- Pour l'expérience utilisateur, on précise aussi qu'il y a un bouton *\"OK\"* pour envoyer le formulaire"
   ]
  },
  {
   "cell_type": "raw",
   "metadata": {},
   "source": [
    "<!doctype html>\n",
    "<html lang=\"en\">\n",
    "  <head>\n",
    "    <link rel =\"stylesheet\" type=\"text/css\" href=\"{{ url_for('static', filename='main.css') }}\">\n",
    "  </head>\n",
    "\n",
    "<body>\n",
    "    <h1>Indiquer votre nom</h1>\n",
    "    <form action=\".\" method=\"POST\">\n",
    "        <input type=\"text\" name=\"text\">\n",
    "        <button type=\"submit\">OK</button>\n",
    "    </form>\n",
    "</body>\n",
    "</html>"
   ]
  },
  {
   "cell_type": "markdown",
   "metadata": {},
   "source": [
    "### login.py\n",
    "\n",
    "Ici on va se concentrer sur la fonction ``text_box``. Nous aimerions récupérer le message envoyé par l'utilisateur et le lui afficher. Pour récupérer les informations envoyées par l'utilisateur, on va importer une nouvelle méthode de [flask](http://flask.pocoo.org/), la méthode ``request``.\n",
    "\n",
    "Pour cela, il faut utiliser la méthode `\"form\"` de l'objet ``request``, qui contient toutes les données du formulaire envoyé en *POST*. La méthode form est un dictionnaire qui associe la valeur à l'attribut name du champ du formulaire. En l'occurence, l'attribut name du champ texte vaut `\"text\"`. Pour récupérer son contenu il faudra donc faire ``request.form['text']``. \n",
    "\n",
    "Et voilà !\n",
    "\n",
    "Ensuite on réutilise ce qu'il a entré pour l'injecter dans une page de bienvenue."
   ]
  },
  {
   "cell_type": "code",
   "execution_count": 13,
   "metadata": {
    "collapsed": true
   },
   "outputs": [],
   "source": [
    "from flask import Flask, request, render_template\n",
    "\n",
    "app = Flask(__name__)\n",
    "\n",
    "@app.route('/')\n",
    "def home():\n",
    "    return render_template(\"home.html\")\n",
    "\n",
    "@app.route('/', methods=['POST'])\n",
    "def text_box():\n",
    "    text = request.form['text']\n",
    "    processed_text = text.upper()\n",
    "    return render_template(\"bienvenue.html\" , message = processed_text )\n",
    "\n",
    "#if __name__ == '__main__':\n",
    "#    app.run()"
   ]
  },
  {
   "cell_type": "markdown",
   "metadata": {},
   "source": [
    "### Conclusion\n",
    "\n",
    "Voilà pour la base de ce qui se passe quand on utilise le framework [Flask](http://flask.pocoo.org/). C'est une très très courte introduction et si souhaitez approfondir vous pouvez suivre le très bon cours Openclassrooms https://openclassrooms.com/courses/creez-vos-applications-web-avec-flask/\n",
    "\n",
    "En attendant, on va essayer de faire ensemble un questionnaire Pokemon ou Big Data, histoire d'avoir quelque chose qui fonctionne à la fin de la séance.\n",
    "\n",
    "Pour cela, ouvrez le dossier `pokemon_big_data` et lancer le code *.py* en ligne de commande pour voir ce que ça donne sur http://localhost:5000/."
   ]
  },
  {
   "cell_type": "code",
   "execution_count": 14,
   "metadata": {
    "collapsed": true
   },
   "outputs": [],
   "source": []
  }
 ],
 "metadata": {
  "anaconda-cloud": {},
  "kernelspec": {
   "display_name": "Python 3",
   "language": "python",
   "name": "python3"
  },
  "language_info": {
   "codemirror_mode": {
    "name": "ipython",
    "version": 3
   },
   "file_extension": ".py",
   "mimetype": "text/x-python",
   "name": "python",
   "nbconvert_exporter": "python",
   "pygments_lexer": "ipython3",
   "version": "3.6.8"
  },
  "toc": {
   "base_numbering": 1,
   "nav_menu": {},
   "number_sections": false,
   "sideBar": true,
   "skip_h1_title": false,
   "title_cell": "Table of Contents",
   "title_sidebar": "Contents",
   "toc_cell": false,
   "toc_position": {},
   "toc_section_display": true,
   "toc_window_display": false
  }
 },
 "nbformat": 4,
 "nbformat_minor": 1
}
